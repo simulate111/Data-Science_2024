{
  "nbformat": 4,
  "nbformat_minor": 0,
  "metadata": {
    "colab": {
      "provenance": [],
      "authorship_tag": "ABX9TyNBmhL81NJhDld7DeqryX9q",
      "include_colab_link": true
    },
    "kernelspec": {
      "name": "python3",
      "display_name": "Python 3"
    },
    "language_info": {
      "name": "python"
    }
  },
  "cells": [
    {
      "cell_type": "markdown",
      "metadata": {
        "id": "view-in-github",
        "colab_type": "text"
      },
      "source": [
        "<a href=\"https://colab.research.google.com/github/simulate111/Data-Science_2024/blob/main/Mini%20Project%201%20%E2%80%93%20What%20should%20I%20cook%20tonight.ipynb\" target=\"_parent\"><img src=\"https://colab.research.google.com/assets/colab-badge.svg\" alt=\"Open In Colab\"/></a>"
      ]
    },
    {
      "cell_type": "code",
      "source": [
        "import requests\n",
        "from bs4 import BeautifulSoup\n",
        "import logging\n",
        "\n",
        "logging.basicConfig(level=logging.DEBUG, format='%(asctime)s - %(levelname)s - %(message)s')\n",
        "\n",
        "def scrape_recipe_details(link):\n",
        "    headers = {'User-Agent': 'Mozilla/5.0'}\n",
        "    try:\n",
        "        response = requests.get(link, headers=headers, timeout=10)\n",
        "        response.raise_for_status()  # Raise an error for bad responses\n",
        "    except requests.RequestException as e:\n",
        "        logging.error(f\"Failed to retrieve recipe: {link} - {e}\")\n",
        "        return {}\n",
        "\n",
        "    soup = BeautifulSoup(response.text, 'html.parser')\n",
        "\n",
        "    try:\n",
        "        title = soup.select_one('.entry-title')\n",
        "        image = soup.select_one('.wp-block-image img')\n",
        "        ww_points = soup.select_one('.recipe-meta-value.recipe-ww-pp')\n",
        "\n",
        "        # Extracting titles from the links in the new class structure\n",
        "        recipe_titles = soup.select('ul.cat-icons.post-icons a')\n",
        "        recipe_keys_list = [key['title'] for key in recipe_titles if 'title' in key.attrs]\n",
        "\n",
        "        calories_container = soup.select_one('.wprm-nutrition-label-text-nutrition-container-calories')\n",
        "        calories_value = (calories_container.select_one('.wprm-nutrition-label-text-nutrition-value').get_text(strip=True)\n",
        "                          if calories_container else \"N/A\")\n",
        "\n",
        "        # Only return data if calories are not \"N/A\"\n",
        "        if calories_value == \"N/A\":\n",
        "            logging.info(f\"Skipping recipe due to N/A calories: {link}\")\n",
        "            return {}\n",
        "\n",
        "        title = title.get_text(strip=True) if title else \"N/A\"\n",
        "        image_src = image['src'] if image else \"N/A\"\n",
        "        points_value = ww_points.get_text(strip=True) if ww_points else \"N/A\"  # Renamed variable\n",
        "\n",
        "        logging.debug(f\"Title: {title}\")\n",
        "        logging.debug(f\"Image: {image_src}\")\n",
        "        logging.debug(f\"Points: {points_value}\")  # Updated log message\n",
        "        logging.debug(f\"Recipe Keys: {recipe_keys_list}\")  # Updated log message\n",
        "        logging.debug(f\"Calories: {calories_value}\")\n",
        "\n",
        "        return {\n",
        "            'Name of the Food': title,\n",
        "            'Image of the Food': image_src,\n",
        "            'Calories': calories_value,\n",
        "            'Points': points_value,\n",
        "            'The recipe Key': recipe_keys_list  # Changed back to \"The recipe Key\"\n",
        "        }\n",
        "    except Exception as e:\n",
        "        logging.error(f\"Error extracting data from {link}: {e}\")\n",
        "        return {}\n"
      ],
      "metadata": {
        "id": "bVqck4pRmMpm"
      },
      "execution_count": 97,
      "outputs": []
    },
    {
      "cell_type": "code",
      "source": [
        "# Scrape the first 5 pages\n",
        "all_recipes = []\n",
        "for page in range(1, 2):\n",
        "    recipes = scrape_skinnytaste(page)\n",
        "    all_recipes.extend(recipes)"
      ],
      "metadata": {
        "id": "6F_u39EqnDQJ",
        "outputId": "e8c13680-11b6-461d-e552-37f0e98844e6",
        "colab": {
          "base_uri": "https://localhost:8080/"
        }
      },
      "execution_count": null,
      "outputs": [
        {
          "output_type": "stream",
          "name": "stdout",
          "text": [
            "Fetching page 1, status code: 200\n",
            "Processing link: https://www.skinnytaste.com/free-7-day-healthy-meal-plan-sept-23-29/\n",
            "Processing link: https://www.skinnytaste.com/apple-butter-recipe/\n",
            "Processing link: https://www.skinnytaste.com/roasted-delicata-squash/\n",
            "Processing link: https://www.skinnytaste.com/applesauce-nut-bread/\n",
            "Processing link: https://www.skinnytaste.com/autumn-salad-with-pears-and-gorgonzola/\n",
            "Processing link: https://www.skinnytaste.com/sesame-chicken/\n",
            "Processing link: https://www.skinnytaste.com/bacon-in-the-oven/\n",
            "Processing link: https://www.skinnytaste.com/skinny-pumpkin-spiced-latte/\n",
            "Processing link: https://www.skinnytaste.com/homemade-hamburger-helper/\n",
            "Processing link: https://www.skinnytaste.com/fried-brown-rice/\n",
            "Processing link: https://www.skinnytaste.com/easy-sheet-pan-dinners/\n",
            "Processing link: https://www.skinnytaste.com/asian-grilled-chicken-33-pts_3510/\n",
            "Processing link: https://www.skinnytaste.com/sweet-potato-salad/\n",
            "Processing link: https://www.skinnytaste.com/ratatouille/\n",
            "Processing link: https://www.skinnytaste.com/best-air-fryer-chicken-recipes/\n"
          ]
        }
      ]
    },
    {
      "cell_type": "code",
      "source": [
        "\n",
        "\n",
        "# Check the contents of all_recipes\n",
        "print(f\"Total recipes collected: {len(all_recipes)}\")  # Debugging line\n",
        "\n",
        "# Create a DataFrame and display the results\n",
        "df = pd.DataFrame(all_recipes)\n",
        "display(df)"
      ],
      "metadata": {
        "id": "-kCglZiimfyJ"
      },
      "execution_count": null,
      "outputs": []
    }
  ]
}