{
  "cells": [
    {
      "cell_type": "markdown",
      "metadata": {
        "id": "view-in-github",
        "colab_type": "text"
      },
      "source": [
        "<a href=\"https://colab.research.google.com/github/simulate111/Data-Science_2024/blob/main/MP2_CHARTIER_Romain.ipynb\" target=\"_parent\"><img src=\"https://colab.research.google.com/assets/colab-badge.svg\" alt=\"Open In Colab\"/></a>"
      ]
    },
    {
      "cell_type": "code",
      "execution_count": 1,
      "metadata": {
        "id": "DShA_cvZoNwi",
        "colab": {
          "base_uri": "https://localhost:8080/",
          "height": 73
        },
        "outputId": "7f233920-4158-45a5-fd29-8df4b5a92eb7"
      },
      "outputs": [
        {
          "output_type": "display_data",
          "data": {
            "text/plain": [
              "<IPython.core.display.HTML object>"
            ],
            "text/html": [
              "\n",
              "     <input type=\"file\" id=\"files-ec60b60f-cc73-4238-a3ca-e0cfb79d90fd\" name=\"files[]\" multiple disabled\n",
              "        style=\"border:none\" />\n",
              "     <output id=\"result-ec60b60f-cc73-4238-a3ca-e0cfb79d90fd\">\n",
              "      Upload widget is only available when the cell has been executed in the\n",
              "      current browser session. Please rerun this cell to enable.\n",
              "      </output>\n",
              "      <script>// Copyright 2017 Google LLC\n",
              "//\n",
              "// Licensed under the Apache License, Version 2.0 (the \"License\");\n",
              "// you may not use this file except in compliance with the License.\n",
              "// You may obtain a copy of the License at\n",
              "//\n",
              "//      http://www.apache.org/licenses/LICENSE-2.0\n",
              "//\n",
              "// Unless required by applicable law or agreed to in writing, software\n",
              "// distributed under the License is distributed on an \"AS IS\" BASIS,\n",
              "// WITHOUT WARRANTIES OR CONDITIONS OF ANY KIND, either express or implied.\n",
              "// See the License for the specific language governing permissions and\n",
              "// limitations under the License.\n",
              "\n",
              "/**\n",
              " * @fileoverview Helpers for google.colab Python module.\n",
              " */\n",
              "(function(scope) {\n",
              "function span(text, styleAttributes = {}) {\n",
              "  const element = document.createElement('span');\n",
              "  element.textContent = text;\n",
              "  for (const key of Object.keys(styleAttributes)) {\n",
              "    element.style[key] = styleAttributes[key];\n",
              "  }\n",
              "  return element;\n",
              "}\n",
              "\n",
              "// Max number of bytes which will be uploaded at a time.\n",
              "const MAX_PAYLOAD_SIZE = 100 * 1024;\n",
              "\n",
              "function _uploadFiles(inputId, outputId) {\n",
              "  const steps = uploadFilesStep(inputId, outputId);\n",
              "  const outputElement = document.getElementById(outputId);\n",
              "  // Cache steps on the outputElement to make it available for the next call\n",
              "  // to uploadFilesContinue from Python.\n",
              "  outputElement.steps = steps;\n",
              "\n",
              "  return _uploadFilesContinue(outputId);\n",
              "}\n",
              "\n",
              "// This is roughly an async generator (not supported in the browser yet),\n",
              "// where there are multiple asynchronous steps and the Python side is going\n",
              "// to poll for completion of each step.\n",
              "// This uses a Promise to block the python side on completion of each step,\n",
              "// then passes the result of the previous step as the input to the next step.\n",
              "function _uploadFilesContinue(outputId) {\n",
              "  const outputElement = document.getElementById(outputId);\n",
              "  const steps = outputElement.steps;\n",
              "\n",
              "  const next = steps.next(outputElement.lastPromiseValue);\n",
              "  return Promise.resolve(next.value.promise).then((value) => {\n",
              "    // Cache the last promise value to make it available to the next\n",
              "    // step of the generator.\n",
              "    outputElement.lastPromiseValue = value;\n",
              "    return next.value.response;\n",
              "  });\n",
              "}\n",
              "\n",
              "/**\n",
              " * Generator function which is called between each async step of the upload\n",
              " * process.\n",
              " * @param {string} inputId Element ID of the input file picker element.\n",
              " * @param {string} outputId Element ID of the output display.\n",
              " * @return {!Iterable<!Object>} Iterable of next steps.\n",
              " */\n",
              "function* uploadFilesStep(inputId, outputId) {\n",
              "  const inputElement = document.getElementById(inputId);\n",
              "  inputElement.disabled = false;\n",
              "\n",
              "  const outputElement = document.getElementById(outputId);\n",
              "  outputElement.innerHTML = '';\n",
              "\n",
              "  const pickedPromise = new Promise((resolve) => {\n",
              "    inputElement.addEventListener('change', (e) => {\n",
              "      resolve(e.target.files);\n",
              "    });\n",
              "  });\n",
              "\n",
              "  const cancel = document.createElement('button');\n",
              "  inputElement.parentElement.appendChild(cancel);\n",
              "  cancel.textContent = 'Cancel upload';\n",
              "  const cancelPromise = new Promise((resolve) => {\n",
              "    cancel.onclick = () => {\n",
              "      resolve(null);\n",
              "    };\n",
              "  });\n",
              "\n",
              "  // Wait for the user to pick the files.\n",
              "  const files = yield {\n",
              "    promise: Promise.race([pickedPromise, cancelPromise]),\n",
              "    response: {\n",
              "      action: 'starting',\n",
              "    }\n",
              "  };\n",
              "\n",
              "  cancel.remove();\n",
              "\n",
              "  // Disable the input element since further picks are not allowed.\n",
              "  inputElement.disabled = true;\n",
              "\n",
              "  if (!files) {\n",
              "    return {\n",
              "      response: {\n",
              "        action: 'complete',\n",
              "      }\n",
              "    };\n",
              "  }\n",
              "\n",
              "  for (const file of files) {\n",
              "    const li = document.createElement('li');\n",
              "    li.append(span(file.name, {fontWeight: 'bold'}));\n",
              "    li.append(span(\n",
              "        `(${file.type || 'n/a'}) - ${file.size} bytes, ` +\n",
              "        `last modified: ${\n",
              "            file.lastModifiedDate ? file.lastModifiedDate.toLocaleDateString() :\n",
              "                                    'n/a'} - `));\n",
              "    const percent = span('0% done');\n",
              "    li.appendChild(percent);\n",
              "\n",
              "    outputElement.appendChild(li);\n",
              "\n",
              "    const fileDataPromise = new Promise((resolve) => {\n",
              "      const reader = new FileReader();\n",
              "      reader.onload = (e) => {\n",
              "        resolve(e.target.result);\n",
              "      };\n",
              "      reader.readAsArrayBuffer(file);\n",
              "    });\n",
              "    // Wait for the data to be ready.\n",
              "    let fileData = yield {\n",
              "      promise: fileDataPromise,\n",
              "      response: {\n",
              "        action: 'continue',\n",
              "      }\n",
              "    };\n",
              "\n",
              "    // Use a chunked sending to avoid message size limits. See b/62115660.\n",
              "    let position = 0;\n",
              "    do {\n",
              "      const length = Math.min(fileData.byteLength - position, MAX_PAYLOAD_SIZE);\n",
              "      const chunk = new Uint8Array(fileData, position, length);\n",
              "      position += length;\n",
              "\n",
              "      const base64 = btoa(String.fromCharCode.apply(null, chunk));\n",
              "      yield {\n",
              "        response: {\n",
              "          action: 'append',\n",
              "          file: file.name,\n",
              "          data: base64,\n",
              "        },\n",
              "      };\n",
              "\n",
              "      let percentDone = fileData.byteLength === 0 ?\n",
              "          100 :\n",
              "          Math.round((position / fileData.byteLength) * 100);\n",
              "      percent.textContent = `${percentDone}% done`;\n",
              "\n",
              "    } while (position < fileData.byteLength);\n",
              "  }\n",
              "\n",
              "  // All done.\n",
              "  yield {\n",
              "    response: {\n",
              "      action: 'complete',\n",
              "    }\n",
              "  };\n",
              "}\n",
              "\n",
              "scope.google = scope.google || {};\n",
              "scope.google.colab = scope.google.colab || {};\n",
              "scope.google.colab._files = {\n",
              "  _uploadFiles,\n",
              "  _uploadFilesContinue,\n",
              "};\n",
              "})(self);\n",
              "</script> "
            ]
          },
          "metadata": {}
        },
        {
          "output_type": "stream",
          "name": "stdout",
          "text": [
            "Saving MP2_Data.csv to MP2_Data.csv\n"
          ]
        }
      ],
      "source": [
        "from google.colab import files\n",
        "uploaded = files.upload()"
      ]
    },
    {
      "cell_type": "markdown",
      "metadata": {
        "id": "zhvJ0U-6v-Ql"
      },
      "source": [
        "import relevant libraries"
      ]
    },
    {
      "cell_type": "code",
      "execution_count": 2,
      "metadata": {
        "id": "pHaKtIxcvrE_"
      },
      "outputs": [],
      "source": [
        "import io\n",
        "import numpy as np\n",
        "import pandas as pd\n",
        "import seaborn as sns\n",
        "import matplotlib.pyplot as plt\n",
        "from sklearn.model_selection import train_test_split\n",
        "from sklearn.linear_model import LinearRegression\n",
        "from sklearn.ensemble import RandomForestRegressor\n",
        "from sklearn.metrics import mean_squared_error\n",
        "from sklearn.feature_selection import VarianceThreshold"
      ]
    },
    {
      "cell_type": "markdown",
      "source": [
        "# Data Processing"
      ],
      "metadata": {
        "id": "pXnF0V0Rqecu"
      }
    },
    {
      "cell_type": "code",
      "execution_count": 3,
      "metadata": {
        "id": "4I7ckfubopbj",
        "colab": {
          "base_uri": "https://localhost:8080/",
          "height": 1000
        },
        "outputId": "2ac4cecc-ecf9-422d-e61b-868f6081744f"
      },
      "outputs": [
        {
          "output_type": "stream",
          "name": "stdout",
          "text": [
            "There are 107 rows and 48 columns in the data set.\n",
            "<class 'pandas.core.frame.DataFrame'>\n",
            "RangeIndex: 107 entries, 0 to 106\n",
            "Data columns (total 48 columns):\n",
            " #   Column       Non-Null Count  Dtype  \n",
            "---  ------       --------------  -----  \n",
            " 0   ID           107 non-null    object \n",
            " 1   Week2_Quiz1  107 non-null    float64\n",
            " 2   Week3_MP1    107 non-null    float64\n",
            " 3   Week3_PR1    107 non-null    float64\n",
            " 4   Week5_MP2    107 non-null    float64\n",
            " 5   Week5_PR2    107 non-null    float64\n",
            " 6   Week7_MP3    107 non-null    float64\n",
            " 7   Week7_PR3    107 non-null    float64\n",
            " 8   Week4_Quiz2  107 non-null    float64\n",
            " 9   Week6_Quiz3  107 non-null    float64\n",
            " 10  Week8_Total  107 non-null    float64\n",
            " 11  Week1_Stat0  107 non-null    int64  \n",
            " 12  Week1_Stat1  107 non-null    int64  \n",
            " 13  Week1_Stat2  107 non-null    int64  \n",
            " 14  Week1_Stat3  107 non-null    int64  \n",
            " 15  Week2_Stat0  107 non-null    int64  \n",
            " 16  Week2_Stat1  107 non-null    int64  \n",
            " 17  Week2_Stat2  107 non-null    int64  \n",
            " 18  Week2_Stat3  107 non-null    int64  \n",
            " 19  Week3_Stat0  107 non-null    int64  \n",
            " 20  Week3_Stat1  107 non-null    int64  \n",
            " 21  Week3_Stat2  107 non-null    int64  \n",
            " 22  Week3_Stat3  107 non-null    int64  \n",
            " 23  Week4_Stat0  107 non-null    int64  \n",
            " 24  Week4_Stat1  107 non-null    int64  \n",
            " 25  Week4_Stat2  107 non-null    int64  \n",
            " 26  Week4_Stat3  107 non-null    int64  \n",
            " 27  Week5_Stat0  107 non-null    int64  \n",
            " 28  Week5_Stat1  107 non-null    int64  \n",
            " 29  Week5_Stat2  107 non-null    int64  \n",
            " 30  Week5_Stat3  107 non-null    int64  \n",
            " 31  Week6_Stat0  107 non-null    int64  \n",
            " 32  Week6_Stat1  107 non-null    int64  \n",
            " 33  Week6_Stat2  107 non-null    int64  \n",
            " 34  Week6_Stat3  107 non-null    int64  \n",
            " 35  Week7_Stat0  107 non-null    int64  \n",
            " 36  Week7_Stat1  107 non-null    int64  \n",
            " 37  Week7_Stat2  107 non-null    int64  \n",
            " 38  Week7_Stat3  107 non-null    int64  \n",
            " 39  Week8_Stat0  107 non-null    int64  \n",
            " 40  Week8_Stat1  107 non-null    int64  \n",
            " 41  Week8_Stat2  107 non-null    int64  \n",
            " 42  Week8_Stat3  107 non-null    int64  \n",
            " 43  Week9_Stat0  107 non-null    int64  \n",
            " 44  Week9_Stat1  107 non-null    int64  \n",
            " 45  Week9_Stat2  107 non-null    int64  \n",
            " 46  Week9_Stat3  107 non-null    int64  \n",
            " 47  Grade        107 non-null    int64  \n",
            "dtypes: float64(10), int64(37), object(1)\n",
            "memory usage: 40.2+ KB\n"
          ]
        },
        {
          "output_type": "execute_result",
          "data": {
            "text/plain": [
              "          ID  Week2_Quiz1  Week3_MP1  Week3_PR1  Week5_MP2  Week5_PR2  \\\n",
              "0  ML-2020-1         5.00       15.0        5.0      16.09       5.00   \n",
              "1  ML-2020-2         3.33       15.0        5.0      17.83       5.00   \n",
              "2  ML-2020-3         1.67       13.0        5.0      15.22       5.00   \n",
              "3  ML-2020-4         2.50       14.0        5.0      10.00       5.00   \n",
              "4  ML-2020-6         0.00       15.0        5.0      12.17       4.93   \n",
              "\n",
              "   Week7_MP3  Week7_PR3  Week4_Quiz2  Week6_Quiz3  ...  Week7_Stat3  \\\n",
              "0      21.88        5.0         5.00          5.0  ...            0   \n",
              "1      22.27        5.0         4.00          5.0  ...            8   \n",
              "2      27.05        2.5         5.00          5.0  ...            0   \n",
              "3      31.02        5.0         3.13          5.0  ...            4   \n",
              "4      15.91        5.0         4.67          5.0  ...            6   \n",
              "\n",
              "   Week8_Stat0  Week8_Stat1  Week8_Stat2  Week8_Stat3  Week9_Stat0  \\\n",
              "0            5            4            0            4            8   \n",
              "1            5            2            0            0           25   \n",
              "2            8            2            0            0            9   \n",
              "3           10            0            0            0            7   \n",
              "4            8            5            1            1            5   \n",
              "\n",
              "   Week9_Stat1  Week9_Stat2  Week9_Stat3  Grade  \n",
              "0            6            1            0      4  \n",
              "1            3            2            5      4  \n",
              "2            0            1            0      3  \n",
              "3            6            0            0      3  \n",
              "4            3            1            0      2  \n",
              "\n",
              "[5 rows x 48 columns]"
            ],
            "text/html": [
              "\n",
              "  <div id=\"df-50c27a21-23dc-401f-a0ce-d25883a6b73d\" class=\"colab-df-container\">\n",
              "    <div>\n",
              "<style scoped>\n",
              "    .dataframe tbody tr th:only-of-type {\n",
              "        vertical-align: middle;\n",
              "    }\n",
              "\n",
              "    .dataframe tbody tr th {\n",
              "        vertical-align: top;\n",
              "    }\n",
              "\n",
              "    .dataframe thead th {\n",
              "        text-align: right;\n",
              "    }\n",
              "</style>\n",
              "<table border=\"1\" class=\"dataframe\">\n",
              "  <thead>\n",
              "    <tr style=\"text-align: right;\">\n",
              "      <th></th>\n",
              "      <th>ID</th>\n",
              "      <th>Week2_Quiz1</th>\n",
              "      <th>Week3_MP1</th>\n",
              "      <th>Week3_PR1</th>\n",
              "      <th>Week5_MP2</th>\n",
              "      <th>Week5_PR2</th>\n",
              "      <th>Week7_MP3</th>\n",
              "      <th>Week7_PR3</th>\n",
              "      <th>Week4_Quiz2</th>\n",
              "      <th>Week6_Quiz3</th>\n",
              "      <th>...</th>\n",
              "      <th>Week7_Stat3</th>\n",
              "      <th>Week8_Stat0</th>\n",
              "      <th>Week8_Stat1</th>\n",
              "      <th>Week8_Stat2</th>\n",
              "      <th>Week8_Stat3</th>\n",
              "      <th>Week9_Stat0</th>\n",
              "      <th>Week9_Stat1</th>\n",
              "      <th>Week9_Stat2</th>\n",
              "      <th>Week9_Stat3</th>\n",
              "      <th>Grade</th>\n",
              "    </tr>\n",
              "  </thead>\n",
              "  <tbody>\n",
              "    <tr>\n",
              "      <th>0</th>\n",
              "      <td>ML-2020-1</td>\n",
              "      <td>5.00</td>\n",
              "      <td>15.0</td>\n",
              "      <td>5.0</td>\n",
              "      <td>16.09</td>\n",
              "      <td>5.00</td>\n",
              "      <td>21.88</td>\n",
              "      <td>5.0</td>\n",
              "      <td>5.00</td>\n",
              "      <td>5.0</td>\n",
              "      <td>...</td>\n",
              "      <td>0</td>\n",
              "      <td>5</td>\n",
              "      <td>4</td>\n",
              "      <td>0</td>\n",
              "      <td>4</td>\n",
              "      <td>8</td>\n",
              "      <td>6</td>\n",
              "      <td>1</td>\n",
              "      <td>0</td>\n",
              "      <td>4</td>\n",
              "    </tr>\n",
              "    <tr>\n",
              "      <th>1</th>\n",
              "      <td>ML-2020-2</td>\n",
              "      <td>3.33</td>\n",
              "      <td>15.0</td>\n",
              "      <td>5.0</td>\n",
              "      <td>17.83</td>\n",
              "      <td>5.00</td>\n",
              "      <td>22.27</td>\n",
              "      <td>5.0</td>\n",
              "      <td>4.00</td>\n",
              "      <td>5.0</td>\n",
              "      <td>...</td>\n",
              "      <td>8</td>\n",
              "      <td>5</td>\n",
              "      <td>2</td>\n",
              "      <td>0</td>\n",
              "      <td>0</td>\n",
              "      <td>25</td>\n",
              "      <td>3</td>\n",
              "      <td>2</td>\n",
              "      <td>5</td>\n",
              "      <td>4</td>\n",
              "    </tr>\n",
              "    <tr>\n",
              "      <th>2</th>\n",
              "      <td>ML-2020-3</td>\n",
              "      <td>1.67</td>\n",
              "      <td>13.0</td>\n",
              "      <td>5.0</td>\n",
              "      <td>15.22</td>\n",
              "      <td>5.00</td>\n",
              "      <td>27.05</td>\n",
              "      <td>2.5</td>\n",
              "      <td>5.00</td>\n",
              "      <td>5.0</td>\n",
              "      <td>...</td>\n",
              "      <td>0</td>\n",
              "      <td>8</td>\n",
              "      <td>2</td>\n",
              "      <td>0</td>\n",
              "      <td>0</td>\n",
              "      <td>9</td>\n",
              "      <td>0</td>\n",
              "      <td>1</td>\n",
              "      <td>0</td>\n",
              "      <td>3</td>\n",
              "    </tr>\n",
              "    <tr>\n",
              "      <th>3</th>\n",
              "      <td>ML-2020-4</td>\n",
              "      <td>2.50</td>\n",
              "      <td>14.0</td>\n",
              "      <td>5.0</td>\n",
              "      <td>10.00</td>\n",
              "      <td>5.00</td>\n",
              "      <td>31.02</td>\n",
              "      <td>5.0</td>\n",
              "      <td>3.13</td>\n",
              "      <td>5.0</td>\n",
              "      <td>...</td>\n",
              "      <td>4</td>\n",
              "      <td>10</td>\n",
              "      <td>0</td>\n",
              "      <td>0</td>\n",
              "      <td>0</td>\n",
              "      <td>7</td>\n",
              "      <td>6</td>\n",
              "      <td>0</td>\n",
              "      <td>0</td>\n",
              "      <td>3</td>\n",
              "    </tr>\n",
              "    <tr>\n",
              "      <th>4</th>\n",
              "      <td>ML-2020-6</td>\n",
              "      <td>0.00</td>\n",
              "      <td>15.0</td>\n",
              "      <td>5.0</td>\n",
              "      <td>12.17</td>\n",
              "      <td>4.93</td>\n",
              "      <td>15.91</td>\n",
              "      <td>5.0</td>\n",
              "      <td>4.67</td>\n",
              "      <td>5.0</td>\n",
              "      <td>...</td>\n",
              "      <td>6</td>\n",
              "      <td>8</td>\n",
              "      <td>5</td>\n",
              "      <td>1</td>\n",
              "      <td>1</td>\n",
              "      <td>5</td>\n",
              "      <td>3</td>\n",
              "      <td>1</td>\n",
              "      <td>0</td>\n",
              "      <td>2</td>\n",
              "    </tr>\n",
              "  </tbody>\n",
              "</table>\n",
              "<p>5 rows × 48 columns</p>\n",
              "</div>\n",
              "    <div class=\"colab-df-buttons\">\n",
              "\n",
              "  <div class=\"colab-df-container\">\n",
              "    <button class=\"colab-df-convert\" onclick=\"convertToInteractive('df-50c27a21-23dc-401f-a0ce-d25883a6b73d')\"\n",
              "            title=\"Convert this dataframe to an interactive table.\"\n",
              "            style=\"display:none;\">\n",
              "\n",
              "  <svg xmlns=\"http://www.w3.org/2000/svg\" height=\"24px\" viewBox=\"0 -960 960 960\">\n",
              "    <path d=\"M120-120v-720h720v720H120Zm60-500h600v-160H180v160Zm220 220h160v-160H400v160Zm0 220h160v-160H400v160ZM180-400h160v-160H180v160Zm440 0h160v-160H620v160ZM180-180h160v-160H180v160Zm440 0h160v-160H620v160Z\"/>\n",
              "  </svg>\n",
              "    </button>\n",
              "\n",
              "  <style>\n",
              "    .colab-df-container {\n",
              "      display:flex;\n",
              "      gap: 12px;\n",
              "    }\n",
              "\n",
              "    .colab-df-convert {\n",
              "      background-color: #E8F0FE;\n",
              "      border: none;\n",
              "      border-radius: 50%;\n",
              "      cursor: pointer;\n",
              "      display: none;\n",
              "      fill: #1967D2;\n",
              "      height: 32px;\n",
              "      padding: 0 0 0 0;\n",
              "      width: 32px;\n",
              "    }\n",
              "\n",
              "    .colab-df-convert:hover {\n",
              "      background-color: #E2EBFA;\n",
              "      box-shadow: 0px 1px 2px rgba(60, 64, 67, 0.3), 0px 1px 3px 1px rgba(60, 64, 67, 0.15);\n",
              "      fill: #174EA6;\n",
              "    }\n",
              "\n",
              "    .colab-df-buttons div {\n",
              "      margin-bottom: 4px;\n",
              "    }\n",
              "\n",
              "    [theme=dark] .colab-df-convert {\n",
              "      background-color: #3B4455;\n",
              "      fill: #D2E3FC;\n",
              "    }\n",
              "\n",
              "    [theme=dark] .colab-df-convert:hover {\n",
              "      background-color: #434B5C;\n",
              "      box-shadow: 0px 1px 3px 1px rgba(0, 0, 0, 0.15);\n",
              "      filter: drop-shadow(0px 1px 2px rgba(0, 0, 0, 0.3));\n",
              "      fill: #FFFFFF;\n",
              "    }\n",
              "  </style>\n",
              "\n",
              "    <script>\n",
              "      const buttonEl =\n",
              "        document.querySelector('#df-50c27a21-23dc-401f-a0ce-d25883a6b73d button.colab-df-convert');\n",
              "      buttonEl.style.display =\n",
              "        google.colab.kernel.accessAllowed ? 'block' : 'none';\n",
              "\n",
              "      async function convertToInteractive(key) {\n",
              "        const element = document.querySelector('#df-50c27a21-23dc-401f-a0ce-d25883a6b73d');\n",
              "        const dataTable =\n",
              "          await google.colab.kernel.invokeFunction('convertToInteractive',\n",
              "                                                    [key], {});\n",
              "        if (!dataTable) return;\n",
              "\n",
              "        const docLinkHtml = 'Like what you see? Visit the ' +\n",
              "          '<a target=\"_blank\" href=https://colab.research.google.com/notebooks/data_table.ipynb>data table notebook</a>'\n",
              "          + ' to learn more about interactive tables.';\n",
              "        element.innerHTML = '';\n",
              "        dataTable['output_type'] = 'display_data';\n",
              "        await google.colab.output.renderOutput(dataTable, element);\n",
              "        const docLink = document.createElement('div');\n",
              "        docLink.innerHTML = docLinkHtml;\n",
              "        element.appendChild(docLink);\n",
              "      }\n",
              "    </script>\n",
              "  </div>\n",
              "\n",
              "\n",
              "<div id=\"df-e9730c59-0bf4-42f0-9461-c4960192156c\">\n",
              "  <button class=\"colab-df-quickchart\" onclick=\"quickchart('df-e9730c59-0bf4-42f0-9461-c4960192156c')\"\n",
              "            title=\"Suggest charts\"\n",
              "            style=\"display:none;\">\n",
              "\n",
              "<svg xmlns=\"http://www.w3.org/2000/svg\" height=\"24px\"viewBox=\"0 0 24 24\"\n",
              "     width=\"24px\">\n",
              "    <g>\n",
              "        <path d=\"M19 3H5c-1.1 0-2 .9-2 2v14c0 1.1.9 2 2 2h14c1.1 0 2-.9 2-2V5c0-1.1-.9-2-2-2zM9 17H7v-7h2v7zm4 0h-2V7h2v10zm4 0h-2v-4h2v4z\"/>\n",
              "    </g>\n",
              "</svg>\n",
              "  </button>\n",
              "\n",
              "<style>\n",
              "  .colab-df-quickchart {\n",
              "      --bg-color: #E8F0FE;\n",
              "      --fill-color: #1967D2;\n",
              "      --hover-bg-color: #E2EBFA;\n",
              "      --hover-fill-color: #174EA6;\n",
              "      --disabled-fill-color: #AAA;\n",
              "      --disabled-bg-color: #DDD;\n",
              "  }\n",
              "\n",
              "  [theme=dark] .colab-df-quickchart {\n",
              "      --bg-color: #3B4455;\n",
              "      --fill-color: #D2E3FC;\n",
              "      --hover-bg-color: #434B5C;\n",
              "      --hover-fill-color: #FFFFFF;\n",
              "      --disabled-bg-color: #3B4455;\n",
              "      --disabled-fill-color: #666;\n",
              "  }\n",
              "\n",
              "  .colab-df-quickchart {\n",
              "    background-color: var(--bg-color);\n",
              "    border: none;\n",
              "    border-radius: 50%;\n",
              "    cursor: pointer;\n",
              "    display: none;\n",
              "    fill: var(--fill-color);\n",
              "    height: 32px;\n",
              "    padding: 0;\n",
              "    width: 32px;\n",
              "  }\n",
              "\n",
              "  .colab-df-quickchart:hover {\n",
              "    background-color: var(--hover-bg-color);\n",
              "    box-shadow: 0 1px 2px rgba(60, 64, 67, 0.3), 0 1px 3px 1px rgba(60, 64, 67, 0.15);\n",
              "    fill: var(--button-hover-fill-color);\n",
              "  }\n",
              "\n",
              "  .colab-df-quickchart-complete:disabled,\n",
              "  .colab-df-quickchart-complete:disabled:hover {\n",
              "    background-color: var(--disabled-bg-color);\n",
              "    fill: var(--disabled-fill-color);\n",
              "    box-shadow: none;\n",
              "  }\n",
              "\n",
              "  .colab-df-spinner {\n",
              "    border: 2px solid var(--fill-color);\n",
              "    border-color: transparent;\n",
              "    border-bottom-color: var(--fill-color);\n",
              "    animation:\n",
              "      spin 1s steps(1) infinite;\n",
              "  }\n",
              "\n",
              "  @keyframes spin {\n",
              "    0% {\n",
              "      border-color: transparent;\n",
              "      border-bottom-color: var(--fill-color);\n",
              "      border-left-color: var(--fill-color);\n",
              "    }\n",
              "    20% {\n",
              "      border-color: transparent;\n",
              "      border-left-color: var(--fill-color);\n",
              "      border-top-color: var(--fill-color);\n",
              "    }\n",
              "    30% {\n",
              "      border-color: transparent;\n",
              "      border-left-color: var(--fill-color);\n",
              "      border-top-color: var(--fill-color);\n",
              "      border-right-color: var(--fill-color);\n",
              "    }\n",
              "    40% {\n",
              "      border-color: transparent;\n",
              "      border-right-color: var(--fill-color);\n",
              "      border-top-color: var(--fill-color);\n",
              "    }\n",
              "    60% {\n",
              "      border-color: transparent;\n",
              "      border-right-color: var(--fill-color);\n",
              "    }\n",
              "    80% {\n",
              "      border-color: transparent;\n",
              "      border-right-color: var(--fill-color);\n",
              "      border-bottom-color: var(--fill-color);\n",
              "    }\n",
              "    90% {\n",
              "      border-color: transparent;\n",
              "      border-bottom-color: var(--fill-color);\n",
              "    }\n",
              "  }\n",
              "</style>\n",
              "\n",
              "  <script>\n",
              "    async function quickchart(key) {\n",
              "      const quickchartButtonEl =\n",
              "        document.querySelector('#' + key + ' button');\n",
              "      quickchartButtonEl.disabled = true;  // To prevent multiple clicks.\n",
              "      quickchartButtonEl.classList.add('colab-df-spinner');\n",
              "      try {\n",
              "        const charts = await google.colab.kernel.invokeFunction(\n",
              "            'suggestCharts', [key], {});\n",
              "      } catch (error) {\n",
              "        console.error('Error during call to suggestCharts:', error);\n",
              "      }\n",
              "      quickchartButtonEl.classList.remove('colab-df-spinner');\n",
              "      quickchartButtonEl.classList.add('colab-df-quickchart-complete');\n",
              "    }\n",
              "    (() => {\n",
              "      let quickchartButtonEl =\n",
              "        document.querySelector('#df-e9730c59-0bf4-42f0-9461-c4960192156c button');\n",
              "      quickchartButtonEl.style.display =\n",
              "        google.colab.kernel.accessAllowed ? 'block' : 'none';\n",
              "    })();\n",
              "  </script>\n",
              "</div>\n",
              "\n",
              "    </div>\n",
              "  </div>\n"
            ],
            "application/vnd.google.colaboratory.intrinsic+json": {
              "type": "dataframe",
              "variable_name": "df"
            }
          },
          "metadata": {},
          "execution_count": 3
        }
      ],
      "source": [
        "df = pd.read_csv(io.BytesIO(uploaded['MP2_Data.csv']))\n",
        "nrow, ncol = df.shape\n",
        "print(f'There are {nrow} rows and {ncol} columns in the data set.')\n",
        "df.describe()\n",
        "df.info()\n",
        "df.head()"
      ]
    },
    {
      "cell_type": "markdown",
      "source": [
        "Check for missing values"
      ],
      "metadata": {
        "id": "2GctR3aWquaF"
      }
    },
    {
      "cell_type": "code",
      "source": [
        "nan_count = df.isna().sum()\n",
        "if nan_count.sum() > 0:\n",
        "    print(\"Missing values found:\")\n",
        "    print(nan_count)"
      ],
      "metadata": {
        "id": "LTYXOZXA_UI1"
      },
      "execution_count": 4,
      "outputs": []
    },
    {
      "cell_type": "markdown",
      "source": [
        "Retaining certain features."
      ],
      "metadata": {
        "id": "-GgBF_gLqyue"
      }
    },
    {
      "cell_type": "code",
      "source": [
        "# Drop the 'ID' and 'Grade' columns\n",
        "X = df.drop(columns=['ID', 'Grade', 'Week8_Total', 'Week2_Quiz1'])\n",
        "\n",
        "# Status described in the assignment, we aggregate them.\n",
        "X['Cumulative_Stat0'] = X[[f'Week{i}_Stat0' for i in range(1, 10)]].sum(axis=1)\n",
        "X['Cumulative_Stat1'] = X[[f'Week{i}_Stat1' for i in range(1, 10)]].sum(axis=1)\n",
        "X['Cumulative_Stat2'] = X[[f'Week{i}_Stat2' for i in range(1, 10)]].sum(axis=1)\n",
        "X['Cumulative_Stat3'] = X[[f'Week{i}_Stat3' for i in range(1, 10)]].sum(axis=1)\n",
        "\n",
        "# Apply VarianceThreshold to remove low-variance features\n",
        "sel = VarianceThreshold(threshold=(.8 * (1 - .8)))\n",
        "X_transformed = sel.fit_transform(X)\n",
        "\n",
        "# Get column names of features that were kept\n",
        "retained_columns = X.columns[sel.get_support()]\n",
        "\n",
        "# Convert X_transformed back into a DataFrame\n",
        "X_transformed_df = pd.DataFrame(X_transformed, columns=retained_columns)\n",
        "\n",
        "\n",
        "# Print retained columns\n",
        "print(retained_columns)\n",
        "\n",
        "y = df['Grade']"
      ],
      "metadata": {
        "id": "MWs0i-5a-iV-",
        "colab": {
          "base_uri": "https://localhost:8080/"
        },
        "outputId": "6c0e0c22-b419-4a14-98f3-814747d82c32"
      },
      "execution_count": 5,
      "outputs": [
        {
          "output_type": "stream",
          "name": "stdout",
          "text": [
            "Index(['Week3_MP1', 'Week3_PR1', 'Week5_MP2', 'Week5_PR2', 'Week7_MP3',\n",
            "       'Week7_PR3', 'Week4_Quiz2', 'Week6_Quiz3', 'Week1_Stat0', 'Week1_Stat2',\n",
            "       'Week1_Stat3', 'Week2_Stat0', 'Week2_Stat1', 'Week2_Stat2',\n",
            "       'Week2_Stat3', 'Week3_Stat0', 'Week3_Stat1', 'Week3_Stat2',\n",
            "       'Week3_Stat3', 'Week4_Stat0', 'Week4_Stat1', 'Week4_Stat2',\n",
            "       'Week4_Stat3', 'Week5_Stat0', 'Week5_Stat1', 'Week5_Stat2',\n",
            "       'Week5_Stat3', 'Week6_Stat0', 'Week6_Stat1', 'Week6_Stat2',\n",
            "       'Week6_Stat3', 'Week7_Stat0', 'Week7_Stat1', 'Week7_Stat2',\n",
            "       'Week7_Stat3', 'Week8_Stat0', 'Week8_Stat1', 'Week8_Stat2',\n",
            "       'Week8_Stat3', 'Week9_Stat0', 'Week9_Stat1', 'Week9_Stat2',\n",
            "       'Week9_Stat3', 'Cumulative_Stat0', 'Cumulative_Stat1',\n",
            "       'Cumulative_Stat2', 'Cumulative_Stat3'],\n",
            "      dtype='object')\n"
          ]
        }
      ]
    },
    {
      "cell_type": "markdown",
      "source": [
        "Obtaining information about the new dataset."
      ],
      "metadata": {
        "id": "RqECoQlarNlU"
      }
    },
    {
      "cell_type": "code",
      "source": [
        "X_transformed_df.describe()\n",
        "X_transformed_df.info()\n",
        "X_transformed_df.head()\n",
        "nrow, ncol = X_transformed_df.shape\n",
        "print(f'There are {nrow} rows and {ncol} columns in the data set.')"
      ],
      "metadata": {
        "id": "MliU5zcm-6p-",
        "colab": {
          "base_uri": "https://localhost:8080/"
        },
        "outputId": "ab104ee9-ad49-4130-a79a-50dccaf8d3da"
      },
      "execution_count": 6,
      "outputs": [
        {
          "output_type": "stream",
          "name": "stdout",
          "text": [
            "<class 'pandas.core.frame.DataFrame'>\n",
            "RangeIndex: 107 entries, 0 to 106\n",
            "Data columns (total 47 columns):\n",
            " #   Column            Non-Null Count  Dtype  \n",
            "---  ------            --------------  -----  \n",
            " 0   Week3_MP1         107 non-null    float64\n",
            " 1   Week3_PR1         107 non-null    float64\n",
            " 2   Week5_MP2         107 non-null    float64\n",
            " 3   Week5_PR2         107 non-null    float64\n",
            " 4   Week7_MP3         107 non-null    float64\n",
            " 5   Week7_PR3         107 non-null    float64\n",
            " 6   Week4_Quiz2       107 non-null    float64\n",
            " 7   Week6_Quiz3       107 non-null    float64\n",
            " 8   Week1_Stat0       107 non-null    float64\n",
            " 9   Week1_Stat2       107 non-null    float64\n",
            " 10  Week1_Stat3       107 non-null    float64\n",
            " 11  Week2_Stat0       107 non-null    float64\n",
            " 12  Week2_Stat1       107 non-null    float64\n",
            " 13  Week2_Stat2       107 non-null    float64\n",
            " 14  Week2_Stat3       107 non-null    float64\n",
            " 15  Week3_Stat0       107 non-null    float64\n",
            " 16  Week3_Stat1       107 non-null    float64\n",
            " 17  Week3_Stat2       107 non-null    float64\n",
            " 18  Week3_Stat3       107 non-null    float64\n",
            " 19  Week4_Stat0       107 non-null    float64\n",
            " 20  Week4_Stat1       107 non-null    float64\n",
            " 21  Week4_Stat2       107 non-null    float64\n",
            " 22  Week4_Stat3       107 non-null    float64\n",
            " 23  Week5_Stat0       107 non-null    float64\n",
            " 24  Week5_Stat1       107 non-null    float64\n",
            " 25  Week5_Stat2       107 non-null    float64\n",
            " 26  Week5_Stat3       107 non-null    float64\n",
            " 27  Week6_Stat0       107 non-null    float64\n",
            " 28  Week6_Stat1       107 non-null    float64\n",
            " 29  Week6_Stat2       107 non-null    float64\n",
            " 30  Week6_Stat3       107 non-null    float64\n",
            " 31  Week7_Stat0       107 non-null    float64\n",
            " 32  Week7_Stat1       107 non-null    float64\n",
            " 33  Week7_Stat2       107 non-null    float64\n",
            " 34  Week7_Stat3       107 non-null    float64\n",
            " 35  Week8_Stat0       107 non-null    float64\n",
            " 36  Week8_Stat1       107 non-null    float64\n",
            " 37  Week8_Stat2       107 non-null    float64\n",
            " 38  Week8_Stat3       107 non-null    float64\n",
            " 39  Week9_Stat0       107 non-null    float64\n",
            " 40  Week9_Stat1       107 non-null    float64\n",
            " 41  Week9_Stat2       107 non-null    float64\n",
            " 42  Week9_Stat3       107 non-null    float64\n",
            " 43  Cumulative_Stat0  107 non-null    float64\n",
            " 44  Cumulative_Stat1  107 non-null    float64\n",
            " 45  Cumulative_Stat2  107 non-null    float64\n",
            " 46  Cumulative_Stat3  107 non-null    float64\n",
            "dtypes: float64(47)\n",
            "memory usage: 39.4 KB\n",
            "There are 107 rows and 47 columns in the data set.\n"
          ]
        }
      ]
    },
    {
      "cell_type": "markdown",
      "source": [
        "Split our data into training/test (60% training, 40% test)"
      ],
      "metadata": {
        "id": "4s0qdB0NrUBe"
      }
    },
    {
      "cell_type": "code",
      "execution_count": 7,
      "metadata": {
        "id": "BE63mlVvqrTw",
        "colab": {
          "base_uri": "https://localhost:8080/"
        },
        "outputId": "b8cce3e4-4e2f-4122-9624-98bc4c8aded6"
      },
      "outputs": [
        {
          "output_type": "stream",
          "name": "stdout",
          "text": [
            "Training set shape: (64, 47)\n",
            "Test set shape: (43, 47)\n"
          ]
        }
      ],
      "source": [
        "X_train, X_test, y_train, y_test = train_test_split(X_transformed_df, y, test_size=0.4, random_state=42)\n",
        "\n",
        "# Check the information of the training and test sets (rows, columns)\n",
        "print(\"Training set shape:\", X_train.shape)\n",
        "print(\"Test set shape:\", X_test.shape)\n"
      ]
    },
    {
      "cell_type": "markdown",
      "source": [
        "# Initialization of the models."
      ],
      "metadata": {
        "id": "9PQWIreYrktk"
      }
    },
    {
      "cell_type": "markdown",
      "source": [
        "Calculate the MSE as well as initialize the models"
      ],
      "metadata": {
        "id": "pfAzcW_Qb4TL"
      }
    },
    {
      "cell_type": "code",
      "source": [
        "# Initialize Linear model\n",
        "linear_model = LinearRegression()\n",
        "rf_model = RandomForestRegressor(random_state=42,n_estimators=1000)\n",
        "\n",
        "# Train the models\n",
        "linear_model.fit(X_train, y_train)\n",
        "rf_model.fit(X_train, y_train)\n",
        "\n",
        "# Predict on the test set\n",
        "linear_preds = linear_model.predict(X_test)\n",
        "rf_preds = rf_model.predict(X_test)\n",
        "\n",
        "# Clip the predictions to be within the range [0, 5]\n",
        "linear_preds = np.clip(linear_preds, 0, 5)\n",
        "# Evaluate the models using Mean Squared Error (MSE)\n",
        "linear_mse = mean_squared_error(y_test, linear_preds)\n",
        "\n",
        "rf_mse = mean_squared_error(y_test, rf_preds)\n",
        "\n",
        "print(\"MSE, the lower the value the better\")\n",
        "\n",
        "print(\"Linear Regression MSE:\", linear_mse)\n",
        "print(\"Random Forest MSE:\", rf_mse)"
      ],
      "metadata": {
        "id": "hRJFa9KHx_BS",
        "colab": {
          "base_uri": "https://localhost:8080/"
        },
        "outputId": "cfdcc0b9-3b00-4ef1-9684-980fe739c680"
      },
      "execution_count": 8,
      "outputs": [
        {
          "output_type": "stream",
          "name": "stdout",
          "text": [
            "MSE, the lower the value the better\n",
            "Linear Regression MSE: 0.3639252314217117\n",
            "Random Forest MSE: 0.2874580465116279\n"
          ]
        }
      ]
    },
    {
      "cell_type": "markdown",
      "source": [
        "# Create Graphs"
      ],
      "metadata": {
        "id": "NHDayewXrt5P"
      }
    },
    {
      "cell_type": "code",
      "source": [
        "# Create a figure for the comparison\n",
        "plt.figure(figsize=(10, 5))\n",
        "\n",
        "# Plot for Linear Regression\n",
        "plt.subplot(1, 2, 1)\n",
        "plt.scatter(y_test, linear_preds, color='blue', label='Linear Predictions')\n",
        "plt.plot([min(y_test), max(y_test)], [min(y_test), max(y_test)], color='red', lw=2, label='Perfect Fit')\n",
        "plt.title('Linear Regression: Predicted vs Actual Grades')\n",
        "plt.xlabel('Actual Grades')\n",
        "plt.ylabel('Predicted Grades')\n",
        "plt.legend()\n",
        "\n",
        "# Plot for Random Forest\n",
        "plt.subplot(1, 2, 2)\n",
        "plt.scatter(y_test, rf_preds, color='green', label='Random Forest Predictions')\n",
        "plt.plot([min(y_test), max(y_test)], [min(y_test), max(y_test)], color='red', lw=2, label='Perfect Fit')\n",
        "plt.title('Random Forest: Predicted vs Actual Grades')\n",
        "plt.xlabel('Actual Grades')\n",
        "plt.ylabel('Predicted Grades')\n",
        "plt.legend()\n",
        "\n",
        "plt.tight_layout()\n",
        "plt.show()\n"
      ],
      "metadata": {
        "id": "REkPMeH1yC9O",
        "colab": {
          "base_uri": "https://localhost:8080/",
          "height": 507
        },
        "outputId": "bb190088-24ae-4247-b48b-e3a121ae9e4f"
      },
      "execution_count": 9,
      "outputs": [
        {
          "output_type": "display_data",
          "data": {
            "text/plain": [
              "<Figure size 1000x500 with 2 Axes>"
            ],
            "image/png": "[encoded data removed]"
          },
          "metadata": {}
        }
      ]
    },
    {
      "cell_type": "code",
      "source": [
        "\n",
        "plt.figure(figsize=(12, 6))\n",
        "# 1. Histogram Linear Regression Predictions\n",
        "plt.subplot(1, 2, 1)\n",
        "sns.histplot(y_test, color='blue', label='Actual Grades', stat=\"density\", bins=30, alpha=0.5)\n",
        "sns.histplot(linear_preds, color='orange', label='Predicted Grades', stat=\"density\", bins=30, alpha=0.5)\n",
        "plt.title('Distribution of Predicted Grades (Linear Regression)')\n",
        "plt.xlabel('Predicted Grades')\n",
        "plt.ylabel('Density')\n",
        "plt.xlim(0, 5)\n",
        "plt.legend()\n",
        "plt.grid(True)\n",
        "\n",
        "# 2. Histogram Random Forest Predictions\n",
        "plt.subplot(1, 2, 2)\n",
        "sns.histplot(y_test, color='blue', label='Actual Grades', stat=\"density\", bins=30, alpha=0.5)\n",
        "sns.histplot(rf_preds, color='orange', label='Predicted Grades', stat=\"density\", bins=30, alpha=0.5)\n",
        "plt.title('Distribution of Predicted Grades (Random Forest)')\n",
        "plt.xlabel('Predicted Grades')\n",
        "plt.ylabel('Density')\n",
        "plt.xlim(0, 5)\n",
        "plt.legend()\n",
        "plt.grid(True)\n",
        "\n",
        "# Adjust layout and show the plot\n",
        "plt.tight_layout()\n",
        "plt.show()\n"
      ],
      "metadata": {
        "id": "0ZIgL5pKQhT7",
        "colab": {
          "base_uri": "https://localhost:8080/",
          "height": 607
        },
        "outputId": "35edb764-6fb1-4555-e5cd-9fe03d5c88f8"
      },
      "execution_count": 10,
      "outputs": [
        {
          "output_type": "display_data",
          "data": {
            "text/plain": [
              "<Figure size 1200x600 with 2 Axes>"
            ],
            "image/png": "[encoded data removed]"
          },
          "metadata": {}
        }
      ]
    },
    {
      "cell_type": "code",
      "source": [
        "\n",
        "\n",
        "# Combine the actual and predicted values into a single DataFrame for easier plotting\n",
        "data = {\n",
        "    'Actual Grades': y_test,\n",
        "    'Linear Regression Predictions': linear_preds,\n",
        "    'Random Forest Predictions': rf_preds\n",
        "}\n",
        "\n",
        "# Create a DataFrame from the dictionary\n",
        "df = pd.DataFrame(data)\n",
        "\n",
        "# Melt the DataFrame for seaborn\n",
        "df_melted = df.melt(var_name='Model', value_name='Predicted Grades')\n",
        "\n",
        "# Create the plot\n",
        "plt.figure(figsize=(12, 6))\n",
        "\n",
        "# Boxplot\n",
        "sns.boxplot(x='Model', y='Predicted Grades', data=df_melted, color='lightgray', showfliers=False)\n",
        "\n",
        "# Stripplot\n",
        "sns.stripplot(x='Model', y='Predicted Grades', data=df_melted, color='black', alpha=0.5, jitter=True)\n",
        "\n",
        "# Customize the plot\n",
        "plt.title('Boxplot of Actual vs Predicted Grades')\n",
        "plt.ylabel('Grades')\n",
        "plt.ylim(-2, 8)  # Set the limits to match your grading scale\n",
        "plt.grid(True)\n",
        "\n",
        "# Show the plot\n",
        "plt.show()\n"
      ],
      "metadata": {
        "id": "VMFPuzl8JcU_",
        "colab": {
          "base_uri": "https://localhost:8080/",
          "height": 564
        },
        "outputId": "43eebc58-ba29-46a5-f708-fd26ed526116"
      },
      "execution_count": 11,
      "outputs": [
        {
          "output_type": "display_data",
          "data": {
            "text/plain": [
              "<Figure size 1200x600 with 1 Axes>"
            ],
            "image/png": "[encoded data removed]"
          },
          "metadata": {}
        }
      ]
    },
    {
      "cell_type": "markdown",
      "source": [
        "# \"Most important features\""
      ],
      "metadata": {
        "id": "I4_8P-rcr0oM"
      }
    },
    {
      "cell_type": "markdown",
      "source": [
        "(Works only after having initialized and trained the models)"
      ],
      "metadata": {
        "id": "NGsmBeqEKs29"
      }
    },
    {
      "cell_type": "code",
      "source": [
        "# Get the feature importance values\n",
        "feature_importance = pd.Series(rf_model.feature_importances_, index=X_transformed_df.columns)\n",
        "feature_importance_lnr = pd.Series(linear_model.coef_, index=X_transformed_df.columns)\n",
        "# Sort the top 3 important features\n",
        "important_features = feature_importance.nlargest(3)\n",
        "important_features_lnr = feature_importance_lnr.nlargest(3)\n",
        "\n",
        "# Print the 3 most important features\n",
        "print(\"Top 3 important features:\\n\", important_features)\n",
        "print(\"Top 3 important features:\\n\", important_features_lnr)"
      ],
      "metadata": {
        "id": "XUk-JgsIyPC7",
        "colab": {
          "base_uri": "https://localhost:8080/"
        },
        "outputId": "0d1d70f5-b6aa-4ff6-bb65-2f012994c37f"
      },
      "execution_count": 12,
      "outputs": [
        {
          "output_type": "stream",
          "name": "stdout",
          "text": [
            "Top 3 important features:\n",
            " Week7_MP3    0.374689\n",
            "Week5_MP2    0.242936\n",
            "Week5_PR2    0.214003\n",
            "dtype: float64\n",
            "Top 3 important features:\n",
            " Week9_Stat3    0.304757\n",
            "Week5_MP2      0.129356\n",
            "Week7_MP3      0.113204\n",
            "dtype: float64\n"
          ]
        }
      ]
    },
    {
      "cell_type": "markdown",
      "source": [
        "# Download the dataframe as csv if needed"
      ],
      "metadata": {
        "id": "8N0PnRMHr4aF"
      }
    },
    {
      "cell_type": "code",
      "source": [
        "\n",
        "from google.colab import files\n",
        "X_transformed_df.to_csv('sample_data.csv', index=False)\n",
        "files.download('sample_data.csv')"
      ],
      "metadata": {
        "colab": {
          "base_uri": "https://localhost:8080/",
          "height": 17
        },
        "id": "jPM9qwVCOP3S",
        "outputId": "6cdef28a-b79c-43d7-ac0e-1c8e7c9c0b65"
      },
      "execution_count": 13,
      "outputs": [
        {
          "output_type": "display_data",
          "data": {
            "text/plain": [
              "<IPython.core.display.Javascript object>"
            ],
            "application/javascript": [
              "\n",
              "    async function download(id, filename, size) {\n",
              "      if (!google.colab.kernel.accessAllowed) {\n",
              "        return;\n",
              "      }\n",
              "      const div = document.createElement('div');\n",
              "      const label = document.createElement('label');\n",
              "      label.textContent = `Downloading \"${filename}\": `;\n",
              "      div.appendChild(label);\n",
              "      const progress = document.createElement('progress');\n",
              "      progress.max = size;\n",
              "      div.appendChild(progress);\n",
              "      document.body.appendChild(div);\n",
              "\n",
              "      const buffers = [];\n",
              "      let downloaded = 0;\n",
              "\n",
              "      const channel = await google.colab.kernel.comms.open(id);\n",
              "      // Send a message to notify the kernel that we're ready.\n",
              "      channel.send({})\n",
              "\n",
              "      for await (const message of channel.messages) {\n",
              "        // Send a message to notify the kernel that we're ready.\n",
              "        channel.send({})\n",
              "        if (message.buffers) {\n",
              "          for (const buffer of message.buffers) {\n",
              "            buffers.push(buffer);\n",
              "            downloaded += buffer.byteLength;\n",
              "            progress.value = downloaded;\n",
              "          }\n",
              "        }\n",
              "      }\n",
              "      const blob = new Blob(buffers, {type: 'application/binary'});\n",
              "      const a = document.createElement('a');\n",
              "      a.href = window.URL.createObjectURL(blob);\n",
              "      a.download = filename;\n",
              "      div.appendChild(a);\n",
              "      a.click();\n",
              "      div.remove();\n",
              "    }\n",
              "  "
            ]
          },
          "metadata": {}
        },
        {
          "output_type": "display_data",
          "data": {
            "text/plain": [
              "<IPython.core.display.Javascript object>"
            ],
            "application/javascript": [
              "download(\"download_7b868cae-d37b-4dc5-a91b-a87cb659f6bf\", \"sample_data.csv\", 22170)"
            ]
          },
          "metadata": {}
        }
      ]
    }
  ],
  "metadata": {
    "colab": {
      "provenance": [],
      "collapsed_sections": [
        "8N0PnRMHr4aF"
      ],
      "include_colab_link": true
    },
    "kernelspec": {
      "display_name": "Python 3",
      "name": "python3"
    },
    "language_info": {
      "name": "python"
    }
  },
  "nbformat": 4,
  "nbformat_minor": 0
}